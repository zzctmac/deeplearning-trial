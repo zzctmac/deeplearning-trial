{
 "cells": [
  {
   "cell_type": "code",
   "execution_count": 2,
   "metadata": {},
   "outputs": [],
   "source": [
    " import numpy as np"
   ]
  },
  {
   "cell_type": "code",
   "execution_count": 17,
   "metadata": {},
   "outputs": [],
   "source": [
    "def show(a):\n",
    "    print(\"show:\")\n",
    "    print(a)\n",
    "    print(a.shape)\n",
    "    print(\"\\n\")"
   ]
  },
  {
   "cell_type": "code",
   "execution_count": 21,
   "metadata": {},
   "outputs": [
    {
     "name": "stdout",
     "output_type": "stream",
     "text": [
      "show:\n",
      "18\n",
      "()\n",
      "\n",
      "\n",
      "show:\n",
      "[3 6 9]\n",
      "(3,)\n",
      "\n",
      "\n",
      "show:\n",
      "[[3]\n",
      " [6]\n",
      " [9]]\n",
      "(3, 1)\n",
      "\n",
      "\n"
     ]
    }
   ],
   "source": [
    "a = np.array([[1,2], [2,4], [3,6]])\n",
    "r = np.sum(a)\n",
    "show(r)\n",
    "r = np.sum(a, axis = 1)\n",
    "show(r)\n",
    "r = np.sum(a, axis = 1, keepdims = True)\n",
    "show(r)"
   ]
  }
 ],
 "metadata": {
  "kernelspec": {
   "display_name": "Python 3",
   "language": "python",
   "name": "python3"
  },
  "language_info": {
   "codemirror_mode": {
    "name": "ipython",
    "version": 3
   },
   "file_extension": ".py",
   "mimetype": "text/x-python",
   "name": "python",
   "nbconvert_exporter": "python",
   "pygments_lexer": "ipython3",
   "version": "3.7.6"
  }
 },
 "nbformat": 4,
 "nbformat_minor": 4
}
